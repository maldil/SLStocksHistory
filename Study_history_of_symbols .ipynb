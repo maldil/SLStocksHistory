{
  "nbformat": 4,
  "nbformat_minor": 0,
  "metadata": {
    "kernelspec": {
      "display_name": "Python 3",
      "language": "python",
      "name": "python3"
    },
    "language_info": {
      "codemirror_mode": {
        "name": "ipython",
        "version": 3
      },
      "file_extension": ".py",
      "mimetype": "text/x-python",
      "name": "python",
      "nbconvert_exporter": "python",
      "pygments_lexer": "ipython3",
      "version": "3.7.1"
    },
    "colab": {
      "name": "Study_history_of_symbols .ipynb",
      "provenance": []
    }
  },
  "cells": [
    {
      "cell_type": "code",
      "metadata": {
        "colab": {
          "base_uri": "https://localhost:8080/"
        },
        "id": "CQ3pcPoI19sc",
        "outputId": "69c9bd81-12ac-4a9e-b2a5-4a4b868869ce"
      },
      "source": [
        "!pip install investpy\n",
        "\n",
        "import urllib.request, json , time, os, difflib, itertools\n",
        "import pandas as pd\n",
        "from multiprocessing.dummy import Pool\n",
        "from datetime import datetime\n",
        "from datetime import date\n",
        "import dateutil\n",
        "from datetime import timezone\n",
        "import time\n",
        "import pathlib\n",
        "try:\n",
        "    import httplib\n",
        "except:\n",
        "    import http.client as httplib"
      ],
      "execution_count": 1,
      "outputs": [
        {
          "output_type": "stream",
          "text": [
            "Requirement already satisfied: investpy in /usr/local/lib/python3.6/dist-packages (1.0)\n",
            "Requirement already satisfied: setuptools>=41.2.0 in /usr/local/lib/python3.6/dist-packages (from investpy) (51.0.0)\n",
            "Requirement already satisfied: pandas>=0.25.1 in /usr/local/lib/python3.6/dist-packages (from investpy) (1.1.5)\n",
            "Requirement already satisfied: requests>=2.22.0 in /usr/local/lib/python3.6/dist-packages (from investpy) (2.23.0)\n",
            "Requirement already satisfied: Unidecode>=1.1.1 in /usr/local/lib/python3.6/dist-packages (from investpy) (1.1.2)\n",
            "Requirement already satisfied: pytz>=2019.3 in /usr/local/lib/python3.6/dist-packages (from investpy) (2020.5)\n",
            "Requirement already satisfied: numpy>=1.17.2 in /usr/local/lib/python3.6/dist-packages (from investpy) (1.19.4)\n",
            "Requirement already satisfied: lxml>=4.4.1 in /usr/local/lib/python3.6/dist-packages (from investpy) (4.6.2)\n",
            "Requirement already satisfied: python-dateutil>=2.7.3 in /usr/local/lib/python3.6/dist-packages (from pandas>=0.25.1->investpy) (2.8.1)\n",
            "Requirement already satisfied: idna<3,>=2.5 in /usr/local/lib/python3.6/dist-packages (from requests>=2.22.0->investpy) (2.10)\n",
            "Requirement already satisfied: certifi>=2017.4.17 in /usr/local/lib/python3.6/dist-packages (from requests>=2.22.0->investpy) (2020.12.5)\n",
            "Requirement already satisfied: chardet<4,>=3.0.2 in /usr/local/lib/python3.6/dist-packages (from requests>=2.22.0->investpy) (3.0.4)\n",
            "Requirement already satisfied: urllib3!=1.25.0,!=1.25.1,<1.26,>=1.21.1 in /usr/local/lib/python3.6/dist-packages (from requests>=2.22.0->investpy) (1.24.3)\n",
            "Requirement already satisfied: six>=1.5 in /usr/local/lib/python3.6/dist-packages (from python-dateutil>=2.7.3->pandas>=0.25.1->investpy) (1.15.0)\n"
          ],
          "name": "stdout"
        }
      ]
    },
    {
      "cell_type": "code",
      "metadata": {
        "id": "4YWaOjkH19se"
      },
      "source": [
        "def check_internet():\n",
        "    conn = httplib.HTTPConnection(\"www.google.com\", timeout=5)\n",
        "    try:\n",
        "        conn.request(\"HEAD\", \"/\")\n",
        "        conn.close()\n",
        "        print(\"connected\")\n",
        "        return True\n",
        "    except:\n",
        "        conn.close()\n",
        "        print(\"not connected\")\n",
        "        return False"
      ],
      "execution_count": null,
      "outputs": []
    },
    {
      "cell_type": "markdown",
      "metadata": {
        "id": "5vA58qCV19sf"
      },
      "source": [
        "Get data from Yahoo finance"
      ]
    },
    {
      "cell_type": "code",
      "metadata": {
        "id": "f7Mn5fGv19sf",
        "outputId": "a4eacd76-521d-42c8-d707-64f537d12bda"
      },
      "source": [
        "def get_historic_price(query_url,json_path,csv_path):\n",
        "    if not os.path.exists(json_path):\n",
        "        os.makedirs(json_path)\n",
        "    if not os.path.exists(csv_path):\n",
        "        os.makedirs(csv_path)\n",
        "        \n",
        "    stock_id=query_url.split(\"&period\")[0].split(\"symbol=\")[1]\n",
        "\n",
        "    if os.path.exists(csv_path+stock_id+'.csv') and os.stat(csv_path+stock_id+'.csv').st_size != 0:\n",
        "        print(\"<<<  Historical data of \"+stock_id+\" already exists\")\n",
        "        return\n",
        "    \n",
        "    while not check_internet():\n",
        "        print(\"Could not connect, trying again in 5 seconds...\")\n",
        "        time.sleep(5)\n",
        "\n",
        "    try:\n",
        "        with urllib.request.urlopen(query_url) as url:\n",
        "            parsed = json.loads(url.read().decode())\n",
        "    \n",
        "    except:\n",
        "        print(\"|||  Historical data of \"+stock_id+\" doesn't exist\")\n",
        "        return\n",
        "    \n",
        "    else:\n",
        "        if os.path.exists(json_path+stock_id+'.json') and os.stat(json_path+stock_id+'.json').st_size != 0:\n",
        "            os.remove(json_path+stock_id+'.json')\n",
        "        \n",
        "        with open(json_path+stock_id+'.json', 'w') as outfile:\n",
        "            json.dump(parsed, outfile, indent=4)\n",
        "        \n",
        "        try:\n",
        "            Date=[]\n",
        "            for i in parsed['chart']['result'][0]['timestamp']:\n",
        "                Date.append(datetime.utcfromtimestamp(int(i)).strftime('%d-%m-%Y'))\n",
        "\n",
        "            Low=parsed['chart']['result'][0]['indicators']['quote'][0]['low']\n",
        "            Open=parsed['chart']['result'][0]['indicators']['quote'][0]['open']\n",
        "            Volume=parsed['chart']['result'][0]['indicators']['quote'][0]['volume']\n",
        "            High=parsed['chart']['result'][0]['indicators']['quote'][0]['high']\n",
        "            Close=parsed['chart']['result'][0]['indicators']['quote'][0]['close']\n",
        "            Adjusted_Close=parsed['chart']['result'][0]['indicators']['adjclose'][0]['adjclose']\n",
        "\n",
        "            df=pd.DataFrame(list(zip(Date,Low,Open,Volume,High,Close,Adjusted_Close)),columns =['Date','Low','Open','Volume','High','Close','Adjusted Close'])\n",
        "\n",
        "            if os.path.exists(csv_path+stock_id+'.csv'):\n",
        "                os.remove(csv_path+stock_id+'.csv')\n",
        "            df.to_csv(csv_path+stock_id+'.csv', sep=',', index=None)\n",
        "            print(\">>>  Historical data of \"+stock_id+\" saved\")\n",
        "        \n",
        "        except:\n",
        "            print(\">>>  Historical data of \"+stock_id+\" could not be saved\")\n",
        "        \n",
        "        return\n",
        "\n",
        "# print(\"retrieving trading data from \" + date.today().strftime(\"%d/%m/%Y\") +\" to \" + (date.today() - delta).strftime(\"%d/%m/%Y\") )\n",
        "# print(query_url)\n",
        "# get_historic_price(query_url,str(pathlib.Path().absolute())+\"/JSON/\",str(pathlib.Path().absolute())+\"/CSV/\")"
      ],
      "execution_count": null,
      "outputs": [
        {
          "output_type": "stream",
          "text": [
            "retrieving trading data from 02/01/2021 to 02/07/2020\n",
            "https://query2.finance.yahoo.com/v8/finance/chart/SAMPN0000.CM?symbol=SAMPN0000.CM&period1=1593673200&period2=1609574400&interval=1d\n",
            "<<<  Historical data of SAMPN0000.CM already exists\n"
          ],
          "name": "stdout"
        }
      ]
    },
    {
      "cell_type": "markdown",
      "metadata": {
        "id": "hIAw5din19sg"
      },
      "source": [
        "Pull data from http://investing.com"
      ]
    },
    {
      "cell_type": "code",
      "metadata": {
        "colab": {
          "base_uri": "https://localhost:8080/",
          "height": 1000
        },
        "id": "BbG1II5p19sg",
        "outputId": "a38a64dc-b1ce-4998-e412-b20fc23ed6fd"
      },
      "source": [
        "import investpy\n",
        "import plotly.express as px\n",
        "from plotly.subplots import make_subplots\n",
        "import plotly.graph_objects as go\n",
        "from plotly.offline import plot\n",
        "import plotly\n",
        "import math\n",
        "from datetime import datetime, timedelta\n",
        "from dateutil import relativedelta\n",
        "\n",
        "def draw_line_plot(data,title,y_axis,row,col,fig):\n",
        "    fig.append_trace(go.Scatter(\n",
        "        name =title,\n",
        "        x=data['Date'],\n",
        "        y=data[y_axis],\n",
        "    ), row=row, col=col)\n",
        "    \n",
        "    return fig\n",
        "\n",
        "\n",
        "symbols_and_names = {'SAMP':\"Sampath\",'JKH':\"Jhon Keels\",'DIPD':\"DIPD\",'SOCL':\"Softlogic Capitals\"\n",
        "                     ,'BROW':\"BIL\",'HNB':\"HNB\",'ABAN':\"Abans Electricals PLC\",'AFSL':\"Abans Finance PLC\"\n",
        "                     ,'ABLT':\"Amana Bank Ltd\",\"CHL\":\"Ceylon Hospitals\",\"CPRT\":\"Ceylon Printers\",\n",
        "                    'HUNA':'Hunnas','ACCE':'Access Engineering','ACL':'ACL Cables','APLA':'ACL Plastics',\n",
        "                     'ACME':'ACME Printing','AGAL':'Agalawatte Plantations','AGST':'Agstar','AHUN':'Aitken Spence Hotels',\n",
        "                     'SPEN':'Aitken Spence PLC','ALLI':'Alliance Finance'}\n",
        "\n",
        "number_of_months = 1\n",
        "symbols = list(symbols_and_names.keys())\n",
        "symbols_names = list(symbols_and_names.values())\n",
        "to_ = date.today().strftime(\"%d/%m/%Y\")\n",
        "delta = relativedelta.relativedelta(months=number_of_months)\n",
        "from_ = (date.today() - delta).strftime(\"%d/%m/%Y\")\n",
        "sym_data_frame = {}\n",
        "for sym in symbols:\n",
        "    df = investpy.get_stock_historical_data(stock=sym,\n",
        "                                        country='Sri Lanka',\n",
        "                                        from_date=from_,\n",
        "                                        to_date=to_)\n",
        "    df = df.reset_index()\n",
        "    sym_data_frame[sym]=df\n",
        "   \n",
        "rows = 6\n",
        "cols = 4\n",
        "fig = make_subplots(rows=rows, cols=cols,subplot_titles=symbols_names)\n",
        "index = 0\n",
        "for k,v in sym_data_frame.items():\n",
        "    row = math.floor(index/cols)+1\n",
        "    col = index%cols+1\n",
        "    draw_line_plot(v,k,\"Close\",row,col,fig)\n",
        "    index +=1\n",
        " \n",
        "    \n",
        "fig.update_layout(\n",
        "        showlegend=False,\n",
        "        xaxis=dict(\n",
        "          showticklabels= True\n",
        "        ),\n",
        "        height=1200, \n",
        "        width=1000,)  \n",
        "if number_of_months>2:\n",
        "  fig.update_xaxes(dtick = 'M1',tickangle = 25)\n",
        "else:\n",
        "  fig.update_xaxes(tickangle = 25)\n",
        "fig = go.Figure(fig)\n",
        "fig.show()"
      ],
      "execution_count": 18,
      "outputs": [
        {
          "output_type": "stream",
          "text": [
            "         Date  Open  High   Low  Close  Volume Currency\n",
            "0  2020-12-03  48.5  48.5  48.2   48.2     721      LKR\n",
            "1  2020-12-04  48.5  48.9  48.0   48.9   13614      LKR\n",
            "2  2020-12-07  50.0  54.9  48.0   52.5  316728      LKR\n",
            "3  2020-12-08  52.8  54.0  51.0   52.5   15201      LKR\n",
            "4  2020-12-09  52.0  52.0  51.1   51.4    2262      LKR\n",
            "5  2020-12-10  52.0  53.2  51.3   52.9    7282      LKR\n",
            "6  2020-12-11  53.5  53.8  53.1   53.5   19379      LKR\n",
            "7  2020-12-14  53.5  53.5  52.8   53.0   13583      LKR\n",
            "8  2020-12-15  52.0  52.0  52.0   52.0     100      LKR\n",
            "9  2020-12-16  52.0  52.0  51.5   51.6    6682      LKR\n",
            "10 2020-12-17  51.4  53.2  51.4   53.2   15859      LKR\n",
            "11 2020-12-18  51.3  52.4  51.3   51.9    3342      LKR\n",
            "12 2020-12-21  52.4  53.5  52.4   53.1   25730      LKR\n",
            "13 2020-12-22  53.0  53.3  52.5   53.3    4501      LKR\n",
            "14 2020-12-23  51.6  53.5  51.6   53.0    8609      LKR\n",
            "15 2020-12-24  53.0  53.0  53.0   53.0     680      LKR\n",
            "16 2020-12-28  53.4  55.0  53.3   54.0   24011      LKR\n",
            "17 2020-12-30  53.7  54.5  53.0   54.5    5075      LKR\n",
            "18 2020-12-31  53.5  54.5  53.5   53.5   12245      LKR\n"
          ],
          "name": "stdout"
        },
        {
          "output_type": "display_data",
          "data": {
            "text/html": [
              "<html>\n",
              "<head><meta charset=\"utf-8\" /></head>\n",
              "<body>\n",
              "    <div>\n",
              "            <script src=\"https://cdnjs.cloudflare.com/ajax/libs/mathjax/2.7.5/MathJax.js?config=TeX-AMS-MML_SVG\"></script><script type=\"text/javascript\">if (window.MathJax) {MathJax.Hub.Config({SVG: {font: \"STIX-Web\"}});}</script>\n",
              "                <script type=\"text/javascript\">window.PlotlyConfig = {MathJaxConfig: 'local'};</script>\n",
              "        <script src=\"https://cdn.plot.ly/plotly-latest.min.js\"></script>    \n",
              "            <div id=\"be5ebd18-54b5-4949-8397-5988c2f1c6c3\" class=\"plotly-graph-div\" style=\"height:1200px; width:1000px;\"></div>\n",
              "            <script type=\"text/javascript\">\n",
              "                \n",
              "                    window.PLOTLYENV=window.PLOTLYENV || {};\n",
              "                    \n",
              "                if (document.getElementById(\"be5ebd18-54b5-4949-8397-5988c2f1c6c3\")) {\n",
              "                    Plotly.newPlot(\n",
              "                        'be5ebd18-54b5-4949-8397-5988c2f1c6c3',\n",
              "                        [{\"name\": \"SAMP\", \"type\": \"scatter\", \"x\": [\"2020-12-03T00:00:00\", \"2020-12-04T00:00:00\", \"2020-12-07T00:00:00\", \"2020-12-08T00:00:00\", \"2020-12-09T00:00:00\", \"2020-12-10T00:00:00\", \"2020-12-11T00:00:00\", \"2020-12-14T00:00:00\", \"2020-12-15T00:00:00\", \"2020-12-16T00:00:00\", \"2020-12-17T00:00:00\", \"2020-12-18T00:00:00\", \"2020-12-21T00:00:00\", \"2020-12-22T00:00:00\", \"2020-12-23T00:00:00\", \"2020-12-24T00:00:00\", \"2020-12-28T00:00:00\", \"2020-12-30T00:00:00\", \"2020-12-31T00:00:00\"], \"xaxis\": \"x\", \"y\": [130.0, 131.9, 135.9, 139.4, 139.5, 137.4, 135.6, 136.4, 134.9, 133.9, 133.5, 133.5, 131.9, 130.7, 131.4, 133.2, 134.5, 134.9, 138.0], \"yaxis\": \"y\"}, {\"name\": \"JKH\", \"type\": \"scatter\", \"x\": [\"2020-12-03T00:00:00\", \"2020-12-04T00:00:00\", \"2020-12-07T00:00:00\", \"2020-12-08T00:00:00\", \"2020-12-09T00:00:00\", \"2020-12-10T00:00:00\", \"2020-12-11T00:00:00\", \"2020-12-14T00:00:00\", \"2020-12-15T00:00:00\", \"2020-12-16T00:00:00\", \"2020-12-17T00:00:00\", \"2020-12-18T00:00:00\", \"2020-12-21T00:00:00\", \"2020-12-22T00:00:00\", \"2020-12-23T00:00:00\", \"2020-12-24T00:00:00\", \"2020-12-28T00:00:00\", \"2020-12-30T00:00:00\", \"2020-12-31T00:00:00\"], \"xaxis\": \"x2\", \"y\": [149.5, 150.0, 151.5, 152.0, 152.0, 152.5, 152.5, 152.6, 151.4, 150.0, 150.0, 150.0, 148.8, 148.0, 148.0, 147.5, 149.0, 150.0, 149.7], \"yaxis\": \"y2\"}, {\"name\": \"DIPD\", \"type\": \"scatter\", \"x\": [\"2020-12-03T00:00:00\", \"2020-12-04T00:00:00\", \"2020-12-07T00:00:00\", \"2020-12-08T00:00:00\", \"2020-12-09T00:00:00\", \"2020-12-10T00:00:00\", \"2020-12-11T00:00:00\", \"2020-12-14T00:00:00\", \"2020-12-15T00:00:00\", \"2020-12-16T00:00:00\", \"2020-12-17T00:00:00\", \"2020-12-18T00:00:00\", \"2020-12-21T00:00:00\", \"2020-12-22T00:00:00\", \"2020-12-23T00:00:00\", \"2020-12-24T00:00:00\", \"2020-12-28T00:00:00\", \"2020-12-30T00:00:00\", \"2020-12-31T00:00:00\"], \"xaxis\": \"x3\", \"y\": [337.5, 336.0, 336.0, 328.0, 326.1, 320.0, 330.5, 325.0, 321.9, 318.0, 314.5, 313.5, 323.7, 326.0, 328.3, 337.9, 338.5, 348.0, 345.5], \"yaxis\": \"y3\"}, {\"name\": \"SOCL\", \"type\": \"scatter\", \"x\": [\"2020-12-03T00:00:00\", \"2020-12-04T00:00:00\", \"2020-12-07T00:00:00\", \"2020-12-08T00:00:00\", \"2020-12-09T00:00:00\", \"2020-12-10T00:00:00\", \"2020-12-11T00:00:00\", \"2020-12-14T00:00:00\", \"2020-12-15T00:00:00\", \"2020-12-16T00:00:00\", \"2020-12-17T00:00:00\", \"2020-12-18T00:00:00\", \"2020-12-21T00:00:00\", \"2020-12-22T00:00:00\", \"2020-12-23T00:00:00\", \"2020-12-24T00:00:00\", \"2020-12-28T00:00:00\", \"2020-12-30T00:00:00\", \"2020-12-31T00:00:00\"], \"xaxis\": \"x4\", \"y\": [3.9, 4.0, 4.1, 3.9, 3.9, 3.9, 3.9, 4.0, 3.9, 3.8, 3.9, 3.8, 3.9, 3.9, 3.8, 3.9, 3.9, 3.9, 4.0], \"yaxis\": \"y4\"}, {\"name\": \"BROW\", \"type\": \"scatter\", \"x\": [\"2020-12-03T00:00:00\", \"2020-12-04T00:00:00\", \"2020-12-07T00:00:00\", \"2020-12-08T00:00:00\", \"2020-12-09T00:00:00\", \"2020-12-10T00:00:00\", \"2020-12-11T00:00:00\", \"2020-12-14T00:00:00\", \"2020-12-15T00:00:00\", \"2020-12-16T00:00:00\", \"2020-12-17T00:00:00\", \"2020-12-18T00:00:00\", \"2020-12-21T00:00:00\", \"2020-12-22T00:00:00\", \"2020-12-23T00:00:00\", \"2020-12-24T00:00:00\", \"2020-12-28T00:00:00\", \"2020-12-30T00:00:00\", \"2020-12-31T00:00:00\"], \"xaxis\": \"x5\", \"y\": [2.6, 2.8, 2.9, 3.1, 3.7, 3.6, 3.4, 3.7, 3.8, 4.2, 3.9, 4.0, 3.9, 4.0, 4.0, 4.0, 4.0, 4.2, 4.3], \"yaxis\": \"y5\"}, {\"name\": \"HNB\", \"type\": \"scatter\", \"x\": [\"2020-12-03T00:00:00\", \"2020-12-04T00:00:00\", \"2020-12-07T00:00:00\", \"2020-12-08T00:00:00\", \"2020-12-09T00:00:00\", \"2020-12-10T00:00:00\", \"2020-12-11T00:00:00\", \"2020-12-14T00:00:00\", \"2020-12-15T00:00:00\", \"2020-12-16T00:00:00\", \"2020-12-17T00:00:00\", \"2020-12-18T00:00:00\", \"2020-12-21T00:00:00\", \"2020-12-22T00:00:00\", \"2020-12-23T00:00:00\", \"2020-12-24T00:00:00\", \"2020-12-28T00:00:00\", \"2020-12-30T00:00:00\", \"2020-12-31T00:00:00\"], \"xaxis\": \"x6\", \"y\": [119.8, 120.5, 127.0, 132.5, 133.0, 131.1, 129.6, 128.9, 126.0, 125.8, 124.0, 124.0, 124.9, 124.3, 124.0, 124.8, 126.9, 125.9, 126.4], \"yaxis\": \"y6\"}, {\"name\": \"ABAN\", \"type\": \"scatter\", \"x\": [\"2020-12-03T00:00:00\", \"2020-12-04T00:00:00\", \"2020-12-07T00:00:00\", \"2020-12-08T00:00:00\", \"2020-12-09T00:00:00\", \"2020-12-10T00:00:00\", \"2020-12-11T00:00:00\", \"2020-12-14T00:00:00\", \"2020-12-15T00:00:00\", \"2020-12-16T00:00:00\", \"2020-12-17T00:00:00\", \"2020-12-18T00:00:00\", \"2020-12-21T00:00:00\", \"2020-12-22T00:00:00\", \"2020-12-23T00:00:00\", \"2020-12-24T00:00:00\", \"2020-12-30T00:00:00\", \"2020-12-31T00:00:00\"], \"xaxis\": \"x7\", \"y\": [116.0, 117.4, 119.0, 118.6, 116.9, 147.0, 144.0, 142.0, 135.0, 127.6, 132.0, 130.0, 132.0, 132.3, 132.2, 132.1, 138.9, 136.5], \"yaxis\": \"y7\"}, {\"name\": \"AFSL\", \"type\": \"scatter\", \"x\": [\"2020-12-03T00:00:00\", \"2020-12-07T00:00:00\", \"2020-12-08T00:00:00\", \"2020-12-09T00:00:00\", \"2020-12-10T00:00:00\", \"2020-12-14T00:00:00\", \"2020-12-16T00:00:00\", \"2020-12-21T00:00:00\", \"2020-12-22T00:00:00\", \"2020-12-23T00:00:00\", \"2020-12-28T00:00:00\", \"2020-12-30T00:00:00\"], \"xaxis\": \"x8\", \"y\": [28.0, 27.9, 27.4, 27.4, 27.8, 27.4, 27.8, 27.4, 27.4, 27.4, 27.4, 29.4], \"yaxis\": \"y8\"}, {\"name\": \"ABLT\", \"type\": \"scatter\", \"x\": [\"2020-12-03T00:00:00\", \"2020-12-04T00:00:00\", \"2020-12-07T00:00:00\", \"2020-12-08T00:00:00\", \"2020-12-09T00:00:00\", \"2020-12-10T00:00:00\", \"2020-12-11T00:00:00\", \"2020-12-14T00:00:00\", \"2020-12-15T00:00:00\", \"2020-12-16T00:00:00\", \"2020-12-17T00:00:00\", \"2020-12-18T00:00:00\", \"2020-12-21T00:00:00\", \"2020-12-22T00:00:00\", \"2020-12-23T00:00:00\", \"2020-12-24T00:00:00\", \"2020-12-28T00:00:00\", \"2020-12-30T00:00:00\", \"2020-12-31T00:00:00\"], \"xaxis\": \"x9\", \"y\": [3.6, 3.6, 3.6, 3.5, 3.6, 3.5, 3.5, 3.5, 3.5, 3.5, 3.5, 3.5, 3.4, 3.4, 3.5, 3.4, 3.3, 3.4, 3.4], \"yaxis\": \"y9\"}, {\"name\": \"CHL\", \"type\": \"scatter\", \"x\": [\"2020-12-03T00:00:00\", \"2020-12-04T00:00:00\", \"2020-12-07T00:00:00\", \"2020-12-08T00:00:00\", \"2020-12-09T00:00:00\", \"2020-12-10T00:00:00\", \"2020-12-11T00:00:00\", \"2020-12-14T00:00:00\", \"2020-12-15T00:00:00\", \"2020-12-16T00:00:00\", \"2020-12-17T00:00:00\", \"2020-12-18T00:00:00\", \"2020-12-21T00:00:00\", \"2020-12-22T00:00:00\", \"2020-12-23T00:00:00\", \"2020-12-24T00:00:00\", \"2020-12-30T00:00:00\", \"2020-12-31T00:00:00\"], \"xaxis\": \"x10\", \"y\": [104.3, 102.5, 104.5, 104.7, 105.0, 105.0, 107.0, 106.0, 107.0, 109.9, 106.0, 104.0, 109.0, 104.0, 105.0, 104.9, 103.2, 103.2], \"yaxis\": \"y10\"}, {\"name\": \"CPRT\", \"type\": \"scatter\", \"x\": [\"2020-12-03T00:00:00\", \"2020-12-04T00:00:00\", \"2020-12-07T00:00:00\", \"2020-12-08T00:00:00\", \"2020-12-09T00:00:00\", \"2020-12-10T00:00:00\", \"2020-12-11T00:00:00\", \"2020-12-14T00:00:00\", \"2020-12-15T00:00:00\", \"2020-12-16T00:00:00\", \"2020-12-17T00:00:00\", \"2020-12-18T00:00:00\", \"2020-12-21T00:00:00\", \"2020-12-22T00:00:00\"], \"xaxis\": \"x11\", \"y\": [69.2, 72.5, 69.3, 69.3, 70.9, 73.5, 73.5, 74.8, 72.9, 77.0, 75.5, 67.5, 65.0, 66.1], \"yaxis\": \"y11\"}, {\"name\": \"HUNA\", \"type\": \"scatter\", \"x\": [\"2020-12-04T00:00:00\", \"2020-12-07T00:00:00\", \"2020-12-10T00:00:00\", \"2020-12-11T00:00:00\", \"2020-12-16T00:00:00\", \"2020-12-17T00:00:00\", \"2020-12-18T00:00:00\", \"2020-12-22T00:00:00\", \"2020-12-30T00:00:00\"], \"xaxis\": \"x12\", \"y\": [168.8, 168.9, 164.1, 162.2, 172.3, 168.9, 164.3, 170.0, 160.0], \"yaxis\": \"y12\"}, {\"name\": \"ACCE\", \"type\": \"scatter\", \"x\": [\"2020-12-03T00:00:00\", \"2020-12-04T00:00:00\", \"2020-12-07T00:00:00\", \"2020-12-08T00:00:00\", \"2020-12-09T00:00:00\", \"2020-12-10T00:00:00\", \"2020-12-11T00:00:00\", \"2020-12-14T00:00:00\", \"2020-12-15T00:00:00\", \"2020-12-16T00:00:00\", \"2020-12-17T00:00:00\", \"2020-12-18T00:00:00\", \"2020-12-21T00:00:00\", \"2020-12-22T00:00:00\", \"2020-12-23T00:00:00\", \"2020-12-24T00:00:00\", \"2020-12-28T00:00:00\", \"2020-12-30T00:00:00\", \"2020-12-31T00:00:00\"], \"xaxis\": \"x13\", \"y\": [25.3, 25.7, 25.6, 25.4, 25.2, 24.8, 25.1, 25.1, 25.0, 24.7, 24.7, 24.8, 24.7, 25.0, 25.0, 24.8, 24.9, 24.9, 24.7], \"yaxis\": \"y13\"}, {\"name\": \"ACL\", \"type\": \"scatter\", \"x\": [\"2020-12-03T00:00:00\", \"2020-12-04T00:00:00\", \"2020-12-07T00:00:00\", \"2020-12-08T00:00:00\", \"2020-12-09T00:00:00\", \"2020-12-10T00:00:00\", \"2020-12-11T00:00:00\", \"2020-12-14T00:00:00\", \"2020-12-15T00:00:00\", \"2020-12-16T00:00:00\", \"2020-12-17T00:00:00\", \"2020-12-18T00:00:00\", \"2020-12-21T00:00:00\", \"2020-12-22T00:00:00\", \"2020-12-23T00:00:00\", \"2020-12-24T00:00:00\", \"2020-12-28T00:00:00\", \"2020-12-30T00:00:00\", \"2020-12-31T00:00:00\"], \"xaxis\": \"x14\", \"y\": [71.0, 69.5, 68.7, 72.2, 72.0, 71.0, 71.2, 72.1, 71.3, 71.0, 70.3, 70.8, 71.0, 73.5, 72.9, 73.5, 74.1, 75.3, 77.2], \"yaxis\": \"y14\"}, {\"name\": \"APLA\", \"type\": \"scatter\", \"x\": [\"2020-12-03T00:00:00\", \"2020-12-04T00:00:00\", \"2020-12-07T00:00:00\", \"2020-12-08T00:00:00\", \"2020-12-09T00:00:00\", \"2020-12-10T00:00:00\", \"2020-12-11T00:00:00\", \"2020-12-14T00:00:00\", \"2020-12-15T00:00:00\", \"2020-12-16T00:00:00\", \"2020-12-17T00:00:00\", \"2020-12-18T00:00:00\", \"2020-12-21T00:00:00\", \"2020-12-22T00:00:00\", \"2020-12-23T00:00:00\", \"2020-12-24T00:00:00\", \"2020-12-28T00:00:00\", \"2020-12-30T00:00:00\", \"2020-12-31T00:00:00\"], \"xaxis\": \"x15\", \"y\": [232.0, 242.0, 235.0, 230.2, 231.0, 237.9, 232.3, 231.0, 230.2, 230.4, 235.0, 237.5, 230.2, 230.0, 232.9, 228.1, 230.0, 238.9, 251.0], \"yaxis\": \"y15\"}, {\"name\": \"ACME\", \"type\": \"scatter\", \"x\": [\"2020-12-03T00:00:00\", \"2020-12-04T00:00:00\", \"2020-12-07T00:00:00\", \"2020-12-08T00:00:00\", \"2020-12-09T00:00:00\", \"2020-12-10T00:00:00\", \"2020-12-11T00:00:00\", \"2020-12-14T00:00:00\", \"2020-12-15T00:00:00\", \"2020-12-16T00:00:00\", \"2020-12-17T00:00:00\", \"2020-12-18T00:00:00\", \"2020-12-21T00:00:00\", \"2020-12-22T00:00:00\", \"2020-12-23T00:00:00\", \"2020-12-24T00:00:00\", \"2020-12-28T00:00:00\", \"2020-12-30T00:00:00\", \"2020-12-31T00:00:00\"], \"xaxis\": \"x16\", \"y\": [5.2, 5.2, 5.2, 5.2, 5.1, 5.2, 5.1, 5.1, 5.1, 5.1, 5.0, 5.0, 5.1, 5.1, 5.1, 5.1, 5.1, 5.1, 5.1], \"yaxis\": \"y16\"}, {\"name\": \"AGAL\", \"type\": \"scatter\", \"x\": [\"2020-12-03T00:00:00\", \"2020-12-04T00:00:00\", \"2020-12-07T00:00:00\", \"2020-12-08T00:00:00\", \"2020-12-09T00:00:00\", \"2020-12-10T00:00:00\", \"2020-12-14T00:00:00\", \"2020-12-15T00:00:00\", \"2020-12-16T00:00:00\", \"2020-12-17T00:00:00\", \"2020-12-18T00:00:00\", \"2020-12-22T00:00:00\", \"2020-12-23T00:00:00\", \"2020-12-24T00:00:00\", \"2020-12-28T00:00:00\", \"2020-12-30T00:00:00\", \"2020-12-31T00:00:00\"], \"xaxis\": \"x17\", \"y\": [18.5, 18.0, 17.9, 18.1, 17.8, 18.5, 19.0, 19.4, 19.4, 19.5, 19.5, 19.0, 19.3, 21.7, 25.5, 28.0, 28.0], \"yaxis\": \"y17\"}, {\"name\": \"AGST\", \"type\": \"scatter\", \"x\": [\"2020-12-03T00:00:00\", \"2020-12-04T00:00:00\", \"2020-12-07T00:00:00\", \"2020-12-08T00:00:00\", \"2020-12-09T00:00:00\", \"2020-12-10T00:00:00\", \"2020-12-11T00:00:00\", \"2020-12-14T00:00:00\", \"2020-12-15T00:00:00\", \"2020-12-16T00:00:00\", \"2020-12-17T00:00:00\", \"2020-12-18T00:00:00\", \"2020-12-21T00:00:00\", \"2020-12-22T00:00:00\", \"2020-12-23T00:00:00\", \"2020-12-24T00:00:00\", \"2020-12-28T00:00:00\", \"2020-12-30T00:00:00\", \"2020-12-31T00:00:00\"], \"xaxis\": \"x18\", \"y\": [7.6, 7.9, 7.9, 8.0, 7.9, 7.8, 7.6, 7.9, 7.8, 7.8, 7.7, 7.5, 7.3, 7.3, 7.4, 7.4, 7.4, 7.4, 7.5], \"yaxis\": \"y18\"}, {\"name\": \"AHUN\", \"type\": \"scatter\", \"x\": [\"2020-12-03T00:00:00\", \"2020-12-04T00:00:00\", \"2020-12-07T00:00:00\", \"2020-12-08T00:00:00\", \"2020-12-09T00:00:00\", \"2020-12-10T00:00:00\", \"2020-12-11T00:00:00\", \"2020-12-14T00:00:00\", \"2020-12-15T00:00:00\", \"2020-12-16T00:00:00\", \"2020-12-17T00:00:00\", \"2020-12-18T00:00:00\", \"2020-12-21T00:00:00\", \"2020-12-22T00:00:00\", \"2020-12-23T00:00:00\", \"2020-12-24T00:00:00\", \"2020-12-28T00:00:00\", \"2020-12-30T00:00:00\", \"2020-12-31T00:00:00\"], \"xaxis\": \"x19\", \"y\": [28.3, 28.7, 31.5, 32.4, 32.8, 32.0, 32.3, 33.0, 33.1, 33.0, 32.6, 32.3, 32.9, 33.2, 33.0, 32.5, 32.4, 32.8, 33.0], \"yaxis\": \"y19\"}, {\"name\": \"SPEN\", \"type\": \"scatter\", \"x\": [\"2020-12-03T00:00:00\", \"2020-12-04T00:00:00\", \"2020-12-07T00:00:00\", \"2020-12-08T00:00:00\", \"2020-12-09T00:00:00\", \"2020-12-10T00:00:00\", \"2020-12-11T00:00:00\", \"2020-12-14T00:00:00\", \"2020-12-15T00:00:00\", \"2020-12-16T00:00:00\", \"2020-12-17T00:00:00\", \"2020-12-18T00:00:00\", \"2020-12-21T00:00:00\", \"2020-12-22T00:00:00\", \"2020-12-23T00:00:00\", \"2020-12-24T00:00:00\", \"2020-12-28T00:00:00\", \"2020-12-30T00:00:00\", \"2020-12-31T00:00:00\"], \"xaxis\": \"x20\", \"y\": [55.0, 55.4, 57.8, 60.0, 62.7, 60.0, 62.2, 62.0, 60.9, 59.8, 58.2, 57.8, 59.0, 57.6, 57.0, 57.6, 56.9, 57.6, 57.7], \"yaxis\": \"y20\"}, {\"name\": \"ALLI\", \"type\": \"scatter\", \"x\": [\"2020-12-03T00:00:00\", \"2020-12-04T00:00:00\", \"2020-12-07T00:00:00\", \"2020-12-08T00:00:00\", \"2020-12-09T00:00:00\", \"2020-12-10T00:00:00\", \"2020-12-11T00:00:00\", \"2020-12-14T00:00:00\", \"2020-12-15T00:00:00\", \"2020-12-16T00:00:00\", \"2020-12-17T00:00:00\", \"2020-12-18T00:00:00\", \"2020-12-21T00:00:00\", \"2020-12-22T00:00:00\", \"2020-12-23T00:00:00\", \"2020-12-24T00:00:00\", \"2020-12-28T00:00:00\", \"2020-12-30T00:00:00\", \"2020-12-31T00:00:00\"], \"xaxis\": \"x21\", \"y\": [48.2, 48.9, 52.5, 52.5, 51.4, 52.9, 53.5, 53.0, 52.0, 51.6, 53.2, 51.9, 53.1, 53.3, 53.0, 53.0, 54.0, 54.5, 53.5], \"yaxis\": \"y21\"}],\n",
              "                        {\"annotations\": [{\"font\": {\"size\": 16}, \"showarrow\": false, \"text\": \"Sampath\", \"x\": 0.10625, \"xanchor\": \"center\", \"xref\": \"paper\", \"y\": 0.9999999999999999, \"yanchor\": \"bottom\", \"yref\": \"paper\"}, {\"font\": {\"size\": 16}, \"showarrow\": false, \"text\": \"Jhon Keels\", \"x\": 0.36875, \"xanchor\": \"center\", \"xref\": \"paper\", \"y\": 0.9999999999999999, \"yanchor\": \"bottom\", \"yref\": \"paper\"}, {\"font\": {\"size\": 16}, \"showarrow\": false, \"text\": \"DIPD\", \"x\": 0.6312500000000001, \"xanchor\": \"center\", \"xref\": \"paper\", \"y\": 0.9999999999999999, \"yanchor\": \"bottom\", \"yref\": \"paper\"}, {\"font\": {\"size\": 16}, \"showarrow\": false, \"text\": \"Softlogic Capitals\", \"x\": 0.89375, \"xanchor\": \"center\", \"xref\": \"paper\", \"y\": 0.9999999999999999, \"yanchor\": \"bottom\", \"yref\": \"paper\"}, {\"font\": {\"size\": 16}, \"showarrow\": false, \"text\": \"BIL\", \"x\": 0.10625, \"xanchor\": \"center\", \"xref\": \"paper\", \"y\": 0.8194444444444444, \"yanchor\": \"bottom\", \"yref\": \"paper\"}, {\"font\": {\"size\": 16}, \"showarrow\": false, \"text\": \"HNB\", \"x\": 0.36875, \"xanchor\": \"center\", \"xref\": \"paper\", \"y\": 0.8194444444444444, \"yanchor\": \"bottom\", \"yref\": \"paper\"}, {\"font\": {\"size\": 16}, \"showarrow\": false, \"text\": \"Abans Electricals PLC\", \"x\": 0.6312500000000001, \"xanchor\": \"center\", \"xref\": \"paper\", \"y\": 0.8194444444444444, \"yanchor\": \"bottom\", \"yref\": \"paper\"}, {\"font\": {\"size\": 16}, \"showarrow\": false, \"text\": \"Abans Finance PLC\", \"x\": 0.89375, \"xanchor\": \"center\", \"xref\": \"paper\", \"y\": 0.8194444444444444, \"yanchor\": \"bottom\", \"yref\": \"paper\"}, {\"font\": {\"size\": 16}, \"showarrow\": false, \"text\": \"Amana Bank Ltd\", \"x\": 0.10625, \"xanchor\": \"center\", \"xref\": \"paper\", \"y\": 0.638888888888889, \"yanchor\": \"bottom\", \"yref\": \"paper\"}, {\"font\": {\"size\": 16}, \"showarrow\": false, \"text\": \"Ceylon Hospitals\", \"x\": 0.36875, \"xanchor\": \"center\", \"xref\": \"paper\", \"y\": 0.638888888888889, \"yanchor\": \"bottom\", \"yref\": \"paper\"}, {\"font\": {\"size\": 16}, \"showarrow\": false, \"text\": \"Ceylon Printers\", \"x\": 0.6312500000000001, \"xanchor\": \"center\", \"xref\": \"paper\", \"y\": 0.638888888888889, \"yanchor\": \"bottom\", \"yref\": \"paper\"}, {\"font\": {\"size\": 16}, \"showarrow\": false, \"text\": \"Hunnas\", \"x\": 0.89375, \"xanchor\": \"center\", \"xref\": \"paper\", \"y\": 0.638888888888889, \"yanchor\": \"bottom\", \"yref\": \"paper\"}, {\"font\": {\"size\": 16}, \"showarrow\": false, \"text\": \"Access Engineering\", \"x\": 0.10625, \"xanchor\": \"center\", \"xref\": \"paper\", \"y\": 0.4583333333333333, \"yanchor\": \"bottom\", \"yref\": \"paper\"}, {\"font\": {\"size\": 16}, \"showarrow\": false, \"text\": \"ACL Cables\", \"x\": 0.36875, \"xanchor\": \"center\", \"xref\": \"paper\", \"y\": 0.4583333333333333, \"yanchor\": \"bottom\", \"yref\": \"paper\"}, {\"font\": {\"size\": 16}, \"showarrow\": false, \"text\": \"ACL Plastics\", \"x\": 0.6312500000000001, \"xanchor\": \"center\", \"xref\": \"paper\", \"y\": 0.4583333333333333, \"yanchor\": \"bottom\", \"yref\": \"paper\"}, {\"font\": {\"size\": 16}, \"showarrow\": false, \"text\": \"ACME Printing\", \"x\": 0.89375, \"xanchor\": \"center\", \"xref\": \"paper\", \"y\": 0.4583333333333333, \"yanchor\": \"bottom\", \"yref\": \"paper\"}, {\"font\": {\"size\": 16}, \"showarrow\": false, \"text\": \"Agalawatte Plantations\", \"x\": 0.10625, \"xanchor\": \"center\", \"xref\": \"paper\", \"y\": 0.2777777777777778, \"yanchor\": \"bottom\", \"yref\": \"paper\"}, {\"font\": {\"size\": 16}, \"showarrow\": false, \"text\": \"Agstar\", \"x\": 0.36875, \"xanchor\": \"center\", \"xref\": \"paper\", \"y\": 0.2777777777777778, \"yanchor\": \"bottom\", \"yref\": \"paper\"}, {\"font\": {\"size\": 16}, \"showarrow\": false, \"text\": \"Aitken Spence Hotels\", \"x\": 0.6312500000000001, \"xanchor\": \"center\", \"xref\": \"paper\", \"y\": 0.2777777777777778, \"yanchor\": \"bottom\", \"yref\": \"paper\"}, {\"font\": {\"size\": 16}, \"showarrow\": false, \"text\": \"Aitken Spence PLC\", \"x\": 0.89375, \"xanchor\": \"center\", \"xref\": \"paper\", \"y\": 0.2777777777777778, \"yanchor\": \"bottom\", \"yref\": \"paper\"}, {\"font\": {\"size\": 16}, \"showarrow\": false, \"text\": \"Alliance Finance\", \"x\": 0.10625, \"xanchor\": \"center\", \"xref\": \"paper\", \"y\": 0.09722222222222222, \"yanchor\": \"bottom\", \"yref\": \"paper\"}], \"height\": 1200, \"showlegend\": false, \"template\": {\"data\": {\"bar\": [{\"error_x\": {\"color\": \"#2a3f5f\"}, \"error_y\": {\"color\": \"#2a3f5f\"}, \"marker\": {\"line\": {\"color\": \"#E5ECF6\", \"width\": 0.5}}, \"type\": \"bar\"}], \"barpolar\": [{\"marker\": {\"line\": {\"color\": \"#E5ECF6\", \"width\": 0.5}}, \"type\": \"barpolar\"}], \"carpet\": [{\"aaxis\": {\"endlinecolor\": \"#2a3f5f\", \"gridcolor\": \"white\", \"linecolor\": \"white\", \"minorgridcolor\": \"white\", \"startlinecolor\": \"#2a3f5f\"}, \"baxis\": {\"endlinecolor\": \"#2a3f5f\", \"gridcolor\": \"white\", \"linecolor\": \"white\", \"minorgridcolor\": \"white\", \"startlinecolor\": \"#2a3f5f\"}, \"type\": \"carpet\"}], \"choropleth\": [{\"colorbar\": {\"outlinewidth\": 0, \"ticks\": \"\"}, \"type\": \"choropleth\"}], \"contour\": [{\"colorbar\": {\"outlinewidth\": 0, \"ticks\": \"\"}, \"colorscale\": [[0.0, \"#0d0887\"], [0.1111111111111111, \"#46039f\"], [0.2222222222222222, \"#7201a8\"], [0.3333333333333333, \"#9c179e\"], [0.4444444444444444, \"#bd3786\"], [0.5555555555555556, \"#d8576b\"], [0.6666666666666666, \"#ed7953\"], [0.7777777777777778, \"#fb9f3a\"], [0.8888888888888888, \"#fdca26\"], [1.0, \"#f0f921\"]], \"type\": \"contour\"}], \"contourcarpet\": [{\"colorbar\": {\"outlinewidth\": 0, \"ticks\": \"\"}, \"type\": \"contourcarpet\"}], \"heatmap\": [{\"colorbar\": {\"outlinewidth\": 0, \"ticks\": \"\"}, \"colorscale\": [[0.0, \"#0d0887\"], [0.1111111111111111, \"#46039f\"], [0.2222222222222222, \"#7201a8\"], [0.3333333333333333, \"#9c179e\"], [0.4444444444444444, \"#bd3786\"], [0.5555555555555556, \"#d8576b\"], [0.6666666666666666, \"#ed7953\"], [0.7777777777777778, \"#fb9f3a\"], [0.8888888888888888, \"#fdca26\"], [1.0, \"#f0f921\"]], \"type\": \"heatmap\"}], \"heatmapgl\": [{\"colorbar\": {\"outlinewidth\": 0, \"ticks\": \"\"}, \"colorscale\": [[0.0, \"#0d0887\"], [0.1111111111111111, \"#46039f\"], [0.2222222222222222, \"#7201a8\"], [0.3333333333333333, \"#9c179e\"], [0.4444444444444444, \"#bd3786\"], [0.5555555555555556, \"#d8576b\"], [0.6666666666666666, \"#ed7953\"], [0.7777777777777778, \"#fb9f3a\"], [0.8888888888888888, \"#fdca26\"], [1.0, \"#f0f921\"]], \"type\": \"heatmapgl\"}], \"histogram\": [{\"marker\": {\"colorbar\": {\"outlinewidth\": 0, \"ticks\": \"\"}}, \"type\": \"histogram\"}], \"histogram2d\": [{\"colorbar\": {\"outlinewidth\": 0, \"ticks\": \"\"}, \"colorscale\": [[0.0, \"#0d0887\"], [0.1111111111111111, \"#46039f\"], [0.2222222222222222, \"#7201a8\"], [0.3333333333333333, \"#9c179e\"], [0.4444444444444444, \"#bd3786\"], [0.5555555555555556, \"#d8576b\"], [0.6666666666666666, \"#ed7953\"], [0.7777777777777778, \"#fb9f3a\"], [0.8888888888888888, \"#fdca26\"], [1.0, \"#f0f921\"]], \"type\": \"histogram2d\"}], \"histogram2dcontour\": [{\"colorbar\": {\"outlinewidth\": 0, \"ticks\": \"\"}, \"colorscale\": [[0.0, \"#0d0887\"], [0.1111111111111111, \"#46039f\"], [0.2222222222222222, \"#7201a8\"], [0.3333333333333333, \"#9c179e\"], [0.4444444444444444, \"#bd3786\"], [0.5555555555555556, \"#d8576b\"], [0.6666666666666666, \"#ed7953\"], [0.7777777777777778, \"#fb9f3a\"], [0.8888888888888888, \"#fdca26\"], [1.0, \"#f0f921\"]], \"type\": \"histogram2dcontour\"}], \"mesh3d\": [{\"colorbar\": {\"outlinewidth\": 0, \"ticks\": \"\"}, \"type\": \"mesh3d\"}], \"parcoords\": [{\"line\": {\"colorbar\": {\"outlinewidth\": 0, \"ticks\": \"\"}}, \"type\": \"parcoords\"}], \"pie\": [{\"automargin\": true, \"type\": \"pie\"}], \"scatter\": [{\"marker\": {\"colorbar\": {\"outlinewidth\": 0, \"ticks\": \"\"}}, \"type\": \"scatter\"}], \"scatter3d\": [{\"line\": {\"colorbar\": {\"outlinewidth\": 0, \"ticks\": \"\"}}, \"marker\": {\"colorbar\": {\"outlinewidth\": 0, \"ticks\": \"\"}}, \"type\": \"scatter3d\"}], \"scattercarpet\": [{\"marker\": {\"colorbar\": {\"outlinewidth\": 0, \"ticks\": \"\"}}, \"type\": \"scattercarpet\"}], \"scattergeo\": [{\"marker\": {\"colorbar\": {\"outlinewidth\": 0, \"ticks\": \"\"}}, \"type\": \"scattergeo\"}], \"scattergl\": [{\"marker\": {\"colorbar\": {\"outlinewidth\": 0, \"ticks\": \"\"}}, \"type\": \"scattergl\"}], \"scattermapbox\": [{\"marker\": {\"colorbar\": {\"outlinewidth\": 0, \"ticks\": \"\"}}, \"type\": \"scattermapbox\"}], \"scatterpolar\": [{\"marker\": {\"colorbar\": {\"outlinewidth\": 0, \"ticks\": \"\"}}, \"type\": \"scatterpolar\"}], \"scatterpolargl\": [{\"marker\": {\"colorbar\": {\"outlinewidth\": 0, \"ticks\": \"\"}}, \"type\": \"scatterpolargl\"}], \"scatterternary\": [{\"marker\": {\"colorbar\": {\"outlinewidth\": 0, \"ticks\": \"\"}}, \"type\": \"scatterternary\"}], \"surface\": [{\"colorbar\": {\"outlinewidth\": 0, \"ticks\": \"\"}, \"colorscale\": [[0.0, \"#0d0887\"], [0.1111111111111111, \"#46039f\"], [0.2222222222222222, \"#7201a8\"], [0.3333333333333333, \"#9c179e\"], [0.4444444444444444, \"#bd3786\"], [0.5555555555555556, \"#d8576b\"], [0.6666666666666666, \"#ed7953\"], [0.7777777777777778, \"#fb9f3a\"], [0.8888888888888888, \"#fdca26\"], [1.0, \"#f0f921\"]], \"type\": \"surface\"}], \"table\": [{\"cells\": {\"fill\": {\"color\": \"#EBF0F8\"}, \"line\": {\"color\": \"white\"}}, \"header\": {\"fill\": {\"color\": \"#C8D4E3\"}, \"line\": {\"color\": \"white\"}}, \"type\": \"table\"}]}, \"layout\": {\"annotationdefaults\": {\"arrowcolor\": \"#2a3f5f\", \"arrowhead\": 0, \"arrowwidth\": 1}, \"coloraxis\": {\"colorbar\": {\"outlinewidth\": 0, \"ticks\": \"\"}}, \"colorscale\": {\"diverging\": [[0, \"#8e0152\"], [0.1, \"#c51b7d\"], [0.2, \"#de77ae\"], [0.3, \"#f1b6da\"], [0.4, \"#fde0ef\"], [0.5, \"#f7f7f7\"], [0.6, \"#e6f5d0\"], [0.7, \"#b8e186\"], [0.8, \"#7fbc41\"], [0.9, \"#4d9221\"], [1, \"#276419\"]], \"sequential\": [[0.0, \"#0d0887\"], [0.1111111111111111, \"#46039f\"], [0.2222222222222222, \"#7201a8\"], [0.3333333333333333, \"#9c179e\"], [0.4444444444444444, \"#bd3786\"], [0.5555555555555556, \"#d8576b\"], [0.6666666666666666, \"#ed7953\"], [0.7777777777777778, \"#fb9f3a\"], [0.8888888888888888, \"#fdca26\"], [1.0, \"#f0f921\"]], \"sequentialminus\": [[0.0, \"#0d0887\"], [0.1111111111111111, \"#46039f\"], [0.2222222222222222, \"#7201a8\"], [0.3333333333333333, \"#9c179e\"], [0.4444444444444444, \"#bd3786\"], [0.5555555555555556, \"#d8576b\"], [0.6666666666666666, \"#ed7953\"], [0.7777777777777778, \"#fb9f3a\"], [0.8888888888888888, \"#fdca26\"], [1.0, \"#f0f921\"]]}, \"colorway\": [\"#636efa\", \"#EF553B\", \"#00cc96\", \"#ab63fa\", \"#FFA15A\", \"#19d3f3\", \"#FF6692\", \"#B6E880\", \"#FF97FF\", \"#FECB52\"], \"font\": {\"color\": \"#2a3f5f\"}, \"geo\": {\"bgcolor\": \"white\", \"lakecolor\": \"white\", \"landcolor\": \"#E5ECF6\", \"showlakes\": true, \"showland\": true, \"subunitcolor\": \"white\"}, \"hoverlabel\": {\"align\": \"left\"}, \"hovermode\": \"closest\", \"mapbox\": {\"style\": \"light\"}, \"paper_bgcolor\": \"white\", \"plot_bgcolor\": \"#E5ECF6\", \"polar\": {\"angularaxis\": {\"gridcolor\": \"white\", \"linecolor\": \"white\", \"ticks\": \"\"}, \"bgcolor\": \"#E5ECF6\", \"radialaxis\": {\"gridcolor\": \"white\", \"linecolor\": \"white\", \"ticks\": \"\"}}, \"scene\": {\"xaxis\": {\"backgroundcolor\": \"#E5ECF6\", \"gridcolor\": \"white\", \"gridwidth\": 2, \"linecolor\": \"white\", \"showbackground\": true, \"ticks\": \"\", \"zerolinecolor\": \"white\"}, \"yaxis\": {\"backgroundcolor\": \"#E5ECF6\", \"gridcolor\": \"white\", \"gridwidth\": 2, \"linecolor\": \"white\", \"showbackground\": true, \"ticks\": \"\", \"zerolinecolor\": \"white\"}, \"zaxis\": {\"backgroundcolor\": \"#E5ECF6\", \"gridcolor\": \"white\", \"gridwidth\": 2, \"linecolor\": \"white\", \"showbackground\": true, \"ticks\": \"\", \"zerolinecolor\": \"white\"}}, \"shapedefaults\": {\"line\": {\"color\": \"#2a3f5f\"}}, \"ternary\": {\"aaxis\": {\"gridcolor\": \"white\", \"linecolor\": \"white\", \"ticks\": \"\"}, \"baxis\": {\"gridcolor\": \"white\", \"linecolor\": \"white\", \"ticks\": \"\"}, \"bgcolor\": \"#E5ECF6\", \"caxis\": {\"gridcolor\": \"white\", \"linecolor\": \"white\", \"ticks\": \"\"}}, \"title\": {\"x\": 0.05}, \"xaxis\": {\"automargin\": true, \"gridcolor\": \"white\", \"linecolor\": \"white\", \"ticks\": \"\", \"title\": {\"standoff\": 15}, \"zerolinecolor\": \"white\", \"zerolinewidth\": 2}, \"yaxis\": {\"automargin\": true, \"gridcolor\": \"white\", \"linecolor\": \"white\", \"ticks\": \"\", \"title\": {\"standoff\": 15}, \"zerolinecolor\": \"white\", \"zerolinewidth\": 2}}}, \"width\": 1000, \"xaxis\": {\"anchor\": \"y\", \"domain\": [0.0, 0.2125], \"showticklabels\": true, \"tickangle\": 25}, \"xaxis10\": {\"anchor\": \"y10\", \"domain\": [0.2625, 0.475], \"tickangle\": 25}, \"xaxis11\": {\"anchor\": \"y11\", \"domain\": [0.525, 0.7375], \"tickangle\": 25}, \"xaxis12\": {\"anchor\": \"y12\", \"domain\": [0.7875, 1.0], \"tickangle\": 25}, \"xaxis13\": {\"anchor\": \"y13\", \"domain\": [0.0, 0.2125], \"tickangle\": 25}, \"xaxis14\": {\"anchor\": \"y14\", \"domain\": [0.2625, 0.475], \"tickangle\": 25}, \"xaxis15\": {\"anchor\": \"y15\", \"domain\": [0.525, 0.7375], \"tickangle\": 25}, \"xaxis16\": {\"anchor\": \"y16\", \"domain\": [0.7875, 1.0], \"tickangle\": 25}, \"xaxis17\": {\"anchor\": \"y17\", \"domain\": [0.0, 0.2125], \"tickangle\": 25}, \"xaxis18\": {\"anchor\": \"y18\", \"domain\": [0.2625, 0.475], \"tickangle\": 25}, \"xaxis19\": {\"anchor\": \"y19\", \"domain\": [0.525, 0.7375], \"tickangle\": 25}, \"xaxis2\": {\"anchor\": \"y2\", \"domain\": [0.2625, 0.475], \"tickangle\": 25}, \"xaxis20\": {\"anchor\": \"y20\", \"domain\": [0.7875, 1.0], \"tickangle\": 25}, \"xaxis21\": {\"anchor\": \"y21\", \"domain\": [0.0, 0.2125], \"tickangle\": 25}, \"xaxis22\": {\"anchor\": \"y22\", \"domain\": [0.2625, 0.475], \"tickangle\": 25}, \"xaxis23\": {\"anchor\": \"y23\", \"domain\": [0.525, 0.7375], \"tickangle\": 25}, \"xaxis24\": {\"anchor\": \"y24\", \"domain\": [0.7875, 1.0], \"tickangle\": 25}, \"xaxis3\": {\"anchor\": \"y3\", \"domain\": [0.525, 0.7375], \"tickangle\": 25}, \"xaxis4\": {\"anchor\": \"y4\", \"domain\": [0.7875, 1.0], \"tickangle\": 25}, \"xaxis5\": {\"anchor\": \"y5\", \"domain\": [0.0, 0.2125], \"tickangle\": 25}, \"xaxis6\": {\"anchor\": \"y6\", \"domain\": [0.2625, 0.475], \"tickangle\": 25}, \"xaxis7\": {\"anchor\": \"y7\", \"domain\": [0.525, 0.7375], \"tickangle\": 25}, \"xaxis8\": {\"anchor\": \"y8\", \"domain\": [0.7875, 1.0], \"tickangle\": 25}, \"xaxis9\": {\"anchor\": \"y9\", \"domain\": [0.0, 0.2125], \"tickangle\": 25}, \"yaxis\": {\"anchor\": \"x\", \"domain\": [0.9027777777777777, 0.9999999999999999]}, \"yaxis10\": {\"anchor\": \"x10\", \"domain\": [0.5416666666666667, 0.638888888888889]}, \"yaxis11\": {\"anchor\": \"x11\", \"domain\": [0.5416666666666667, 0.638888888888889]}, \"yaxis12\": {\"anchor\": \"x12\", \"domain\": [0.5416666666666667, 0.638888888888889]}, \"yaxis13\": {\"anchor\": \"x13\", \"domain\": [0.3611111111111111, 0.4583333333333333]}, \"yaxis14\": {\"anchor\": \"x14\", \"domain\": [0.3611111111111111, 0.4583333333333333]}, \"yaxis15\": {\"anchor\": \"x15\", \"domain\": [0.3611111111111111, 0.4583333333333333]}, \"yaxis16\": {\"anchor\": \"x16\", \"domain\": [0.3611111111111111, 0.4583333333333333]}, \"yaxis17\": {\"anchor\": \"x17\", \"domain\": [0.18055555555555555, 0.2777777777777778]}, \"yaxis18\": {\"anchor\": \"x18\", \"domain\": [0.18055555555555555, 0.2777777777777778]}, \"yaxis19\": {\"anchor\": \"x19\", \"domain\": [0.18055555555555555, 0.2777777777777778]}, \"yaxis2\": {\"anchor\": \"x2\", \"domain\": [0.9027777777777777, 0.9999999999999999]}, \"yaxis20\": {\"anchor\": \"x20\", \"domain\": [0.18055555555555555, 0.2777777777777778]}, \"yaxis21\": {\"anchor\": \"x21\", \"domain\": [0.0, 0.09722222222222222]}, \"yaxis22\": {\"anchor\": \"x22\", \"domain\": [0.0, 0.09722222222222222]}, \"yaxis23\": {\"anchor\": \"x23\", \"domain\": [0.0, 0.09722222222222222]}, \"yaxis24\": {\"anchor\": \"x24\", \"domain\": [0.0, 0.09722222222222222]}, \"yaxis3\": {\"anchor\": \"x3\", \"domain\": [0.9027777777777777, 0.9999999999999999]}, \"yaxis4\": {\"anchor\": \"x4\", \"domain\": [0.9027777777777777, 0.9999999999999999]}, \"yaxis5\": {\"anchor\": \"x5\", \"domain\": [0.7222222222222222, 0.8194444444444444]}, \"yaxis6\": {\"anchor\": \"x6\", \"domain\": [0.7222222222222222, 0.8194444444444444]}, \"yaxis7\": {\"anchor\": \"x7\", \"domain\": [0.7222222222222222, 0.8194444444444444]}, \"yaxis8\": {\"anchor\": \"x8\", \"domain\": [0.7222222222222222, 0.8194444444444444]}, \"yaxis9\": {\"anchor\": \"x9\", \"domain\": [0.5416666666666667, 0.638888888888889]}},\n",
              "                        {\"responsive\": true}\n",
              "                    ).then(function(){\n",
              "                            \n",
              "var gd = document.getElementById('be5ebd18-54b5-4949-8397-5988c2f1c6c3');\n",
              "var x = new MutationObserver(function (mutations, observer) {{\n",
              "        var display = window.getComputedStyle(gd).display;\n",
              "        if (!display || display === 'none') {{\n",
              "            console.log([gd, 'removed!']);\n",
              "            Plotly.purge(gd);\n",
              "            observer.disconnect();\n",
              "        }}\n",
              "}});\n",
              "\n",
              "// Listen for the removal of the full notebook cells\n",
              "var notebookContainer = gd.closest('#notebook-container');\n",
              "if (notebookContainer) {{\n",
              "    x.observe(notebookContainer, {childList: true});\n",
              "}}\n",
              "\n",
              "// Listen for the clearing of the current output cell\n",
              "var outputEl = gd.closest('.output');\n",
              "if (outputEl) {{\n",
              "    x.observe(outputEl, {childList: true});\n",
              "}}\n",
              "\n",
              "                        })\n",
              "                };\n",
              "                \n",
              "            </script>\n",
              "        </div>\n",
              "</body>\n",
              "</html>"
            ]
          },
          "metadata": {
            "tags": []
          }
        }
      ]
    }
  ]
}