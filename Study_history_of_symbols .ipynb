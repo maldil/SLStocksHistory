{
  "nbformat": 4,
  "nbformat_minor": 0,
  "metadata": {
    "kernelspec": {
      "display_name": "Python 3",
      "language": "python",
      "name": "python3"
    },
    "language_info": {
      "codemirror_mode": {
        "name": "ipython",
        "version": 3
      },
      "file_extension": ".py",
      "mimetype": "text/x-python",
      "name": "python",
      "nbconvert_exporter": "python",
      "pygments_lexer": "ipython3",
      "version": "3.7.1"
    },
    "colab": {
      "name": "Study_history_of_symbols .ipynb",
      "provenance": []
    }
  },
  "cells": [
    {
      "cell_type": "code",
      "metadata": {
        "colab": {
          "base_uri": "https://localhost:8080/"
        },
        "id": "CQ3pcPoI19sc",
        "outputId": "69c9bd81-12ac-4a9e-b2a5-4a4b868869ce"
      },
      "source": [
        "!pip install investpy\n",
        "\n",
        "import urllib.request, json , time, os, difflib, itertools\n",
        "import pandas as pd\n",
        "from multiprocessing.dummy import Pool\n",
        "from datetime import datetime\n",
        "from datetime import date\n",
        "import dateutil\n",
        "from datetime import timezone\n",
        "import time\n",
        "import pathlib\n",
        "try:\n",
        "    import httplib\n",
        "except:\n",
        "    import http.client as httplib"
      ],
      "execution_count": 1,
      "outputs": [
        {
          "output_type": "stream",
          "text": [
            "Requirement already satisfied: investpy in /usr/local/lib/python3.6/dist-packages (1.0)\n",
            "Requirement already satisfied: setuptools>=41.2.0 in /usr/local/lib/python3.6/dist-packages (from investpy) (51.0.0)\n",
            "Requirement already satisfied: pandas>=0.25.1 in /usr/local/lib/python3.6/dist-packages (from investpy) (1.1.5)\n",
            "Requirement already satisfied: requests>=2.22.0 in /usr/local/lib/python3.6/dist-packages (from investpy) (2.23.0)\n",
            "Requirement already satisfied: Unidecode>=1.1.1 in /usr/local/lib/python3.6/dist-packages (from investpy) (1.1.2)\n",
            "Requirement already satisfied: pytz>=2019.3 in /usr/local/lib/python3.6/dist-packages (from investpy) (2020.5)\n",
            "Requirement already satisfied: numpy>=1.17.2 in /usr/local/lib/python3.6/dist-packages (from investpy) (1.19.4)\n",
            "Requirement already satisfied: lxml>=4.4.1 in /usr/local/lib/python3.6/dist-packages (from investpy) (4.6.2)\n",
            "Requirement already satisfied: python-dateutil>=2.7.3 in /usr/local/lib/python3.6/dist-packages (from pandas>=0.25.1->investpy) (2.8.1)\n",
            "Requirement already satisfied: idna<3,>=2.5 in /usr/local/lib/python3.6/dist-packages (from requests>=2.22.0->investpy) (2.10)\n",
            "Requirement already satisfied: certifi>=2017.4.17 in /usr/local/lib/python3.6/dist-packages (from requests>=2.22.0->investpy) (2020.12.5)\n",
            "Requirement already satisfied: chardet<4,>=3.0.2 in /usr/local/lib/python3.6/dist-packages (from requests>=2.22.0->investpy) (3.0.4)\n",
            "Requirement already satisfied: urllib3!=1.25.0,!=1.25.1,<1.26,>=1.21.1 in /usr/local/lib/python3.6/dist-packages (from requests>=2.22.0->investpy) (1.24.3)\n",
            "Requirement already satisfied: six>=1.5 in /usr/local/lib/python3.6/dist-packages (from python-dateutil>=2.7.3->pandas>=0.25.1->investpy) (1.15.0)\n"
          ],
          "name": "stdout"
        }
      ]
    },
    {
      "cell_type": "code",
      "metadata": {
        "id": "4YWaOjkH19se"
      },
      "source": [
        "def check_internet():\n",
        "    conn = httplib.HTTPConnection(\"www.google.com\", timeout=5)\n",
        "    try:\n",
        "        conn.request(\"HEAD\", \"/\")\n",
        "        conn.close()\n",
        "        print(\"connected\")\n",
        "        return True\n",
        "    except:\n",
        "        conn.close()\n",
        "        print(\"not connected\")\n",
        "        return False"
      ],
      "execution_count": null,
      "outputs": []
    },
    {
      "cell_type": "markdown",
      "metadata": {
        "id": "5vA58qCV19sf"
      },
      "source": [
        "Get data from Yahoo finance"
      ]
    },
    {
      "cell_type": "code",
      "metadata": {
        "id": "f7Mn5fGv19sf",
        "outputId": "a4eacd76-521d-42c8-d707-64f537d12bda"
      },
      "source": [
        "def get_historic_price(query_url,json_path,csv_path):\n",
        "    if not os.path.exists(json_path):\n",
        "        os.makedirs(json_path)\n",
        "    if not os.path.exists(csv_path):\n",
        "        os.makedirs(csv_path)\n",
        "        \n",
        "    stock_id=query_url.split(\"&period\")[0].split(\"symbol=\")[1]\n",
        "\n",
        "    if os.path.exists(csv_path+stock_id+'.csv') and os.stat(csv_path+stock_id+'.csv').st_size != 0:\n",
        "        print(\"<<<  Historical data of \"+stock_id+\" already exists\")\n",
        "        return\n",
        "    \n",
        "    while not check_internet():\n",
        "        print(\"Could not connect, trying again in 5 seconds...\")\n",
        "        time.sleep(5)\n",
        "\n",
        "    try:\n",
        "        with urllib.request.urlopen(query_url) as url:\n",
        "            parsed = json.loads(url.read().decode())\n",
        "    \n",
        "    except:\n",
        "        print(\"|||  Historical data of \"+stock_id+\" doesn't exist\")\n",
        "        return\n",
        "    \n",
        "    else:\n",
        "        if os.path.exists(json_path+stock_id+'.json') and os.stat(json_path+stock_id+'.json').st_size != 0:\n",
        "            os.remove(json_path+stock_id+'.json')\n",
        "        \n",
        "        with open(json_path+stock_id+'.json', 'w') as outfile:\n",
        "            json.dump(parsed, outfile, indent=4)\n",
        "        \n",
        "        try:\n",
        "            Date=[]\n",
        "            for i in parsed['chart']['result'][0]['timestamp']:\n",
        "                Date.append(datetime.utcfromtimestamp(int(i)).strftime('%d-%m-%Y'))\n",
        "\n",
        "            Low=parsed['chart']['result'][0]['indicators']['quote'][0]['low']\n",
        "            Open=parsed['chart']['result'][0]['indicators']['quote'][0]['open']\n",
        "            Volume=parsed['chart']['result'][0]['indicators']['quote'][0]['volume']\n",
        "            High=parsed['chart']['result'][0]['indicators']['quote'][0]['high']\n",
        "            Close=parsed['chart']['result'][0]['indicators']['quote'][0]['close']\n",
        "            Adjusted_Close=parsed['chart']['result'][0]['indicators']['adjclose'][0]['adjclose']\n",
        "\n",
        "            df=pd.DataFrame(list(zip(Date,Low,Open,Volume,High,Close,Adjusted_Close)),columns =['Date','Low','Open','Volume','High','Close','Adjusted Close'])\n",
        "\n",
        "            if os.path.exists(csv_path+stock_id+'.csv'):\n",
        "                os.remove(csv_path+stock_id+'.csv')\n",
        "            df.to_csv(csv_path+stock_id+'.csv', sep=',', index=None)\n",
        "            print(\">>>  Historical data of \"+stock_id+\" saved\")\n",
        "        \n",
        "        except:\n",
        "            print(\">>>  Historical data of \"+stock_id+\" could not be saved\")\n",
        "        \n",
        "        return\n",
        "\n",
        "# print(\"retrieving trading data from \" + date.today().strftime(\"%d/%m/%Y\") +\" to \" + (date.today() - delta).strftime(\"%d/%m/%Y\") )\n",
        "# print(query_url)\n",
        "# get_historic_price(query_url,str(pathlib.Path().absolute())+\"/JSON/\",str(pathlib.Path().absolute())+\"/CSV/\")"
      ],
      "execution_count": null,
      "outputs": [
        {
          "output_type": "stream",
          "text": [
            "retrieving trading data from 02/01/2021 to 02/07/2020\n",
            "https://query2.finance.yahoo.com/v8/finance/chart/SAMPN0000.CM?symbol=SAMPN0000.CM&period1=1593673200&period2=1609574400&interval=1d\n",
            "<<<  Historical data of SAMPN0000.CM already exists\n"
          ],
          "name": "stdout"
        }
      ]
    },
    {
      "cell_type": "markdown",
      "metadata": {
        "id": "hIAw5din19sg"
      },
      "source": [
        "Pull data from http://investing.com"
      ]
    },
    {
      "cell_type": "code",
      "metadata": {
        "colab": {
          "base_uri": "https://localhost:8080/",
          "height": 232
        },
        "id": "BbG1II5p19sg",
        "outputId": "b12e9b3c-ec79-44dc-ab50-1eda24fdbf93"
      },
      "source": [
        "import investpy\n",
        "import plotly.express as px\n",
        "from plotly.subplots import make_subplots\n",
        "import plotly.graph_objects as go\n",
        "from plotly.offline import plot\n",
        "import plotly\n",
        "import math\n",
        "from datetime import datetime, timedelta\n",
        "from dateutil import relativedelta\n",
        "import operator\n",
        "\n",
        "def draw_line_plot(data,title,y_axis,row,col,fig):\n",
        "    fig.append_trace(go.Scatter(\n",
        "        name =title,\n",
        "        x=data['Date'],\n",
        "        y=data[y_axis],\n",
        "    ), row=row, col=col)\n",
        "    \n",
        "    return fig\n",
        "\n",
        "\n",
        "symbols_and_names = {'SAMP':\"Sampath\",'JKH':\"Jhon Keels\",'DIPD':\"DIPD\",'SOCL':\"Softlogic Capitals\"\n",
        "                     ,'BROW':\"BIL\",'HNB':\"HNB\",'ABAN':\"Abans Electricals PLC\",'AFSL':\"Abans Finance PLC\"\n",
        "                     ,'ABLT':\"Amana Bank Ltd\",\"CHL\":\"Ceylon Hospitals\",\"CPRT\":\"Ceylon Printers\",\n",
        "                    'HUNA':'Hunnas','ACCE':'Access Engineering','ACL':'ACL Cables','APLA':'ACL Plastics',\n",
        "                     'ACME':'ACME Printing','AGAL':'Agalawatte Plantations','AGST':'Agstar','AHUN':'Aitken Spence Hotels',\n",
        "                     'SPEN':'Aitken Spence PLC','ALLI':'Alliance Finance'}\n",
        "\n",
        "number_of_months = 1\n",
        "symbols = list(symbols_and_names.keys())\n",
        "symbols_names = list(symbols_and_names.values())\n",
        "to_ = date.today().strftime(\"%d/%m/%Y\")\n",
        "delta = relativedelta.relativedelta(months=number_of_months)\n",
        "from_ = (date.today() - delta).strftime(\"%d/%m/%Y\")\n",
        "sym_data_frame = {}\n",
        "symbols_total_volume = []\n",
        "for sym in symbols:\n",
        "    df = investpy.get_stock_historical_data(stock=sym,\n",
        "                                        country='Sri Lanka',\n",
        "                                        from_date=from_,\n",
        "                                        to_date=to_)\n",
        "    df = df.reset_index()\n",
        "    sym_data_frame[sym]=df\n",
        "    symbols_total_volume.append((sym,sum(df['Volume'])))\n",
        "\n",
        "\n",
        "sorted_sym_data_frame= sorted(symbols_total_volume, key=lambda tup: tup[1]) \n",
        "print(sorted_sym_data_frame)\n",
        "for pair in symbols_total_volume.sort(key=lambda tup: tup[1]):\n",
        "  print(pair)\n",
        "\n",
        "\n",
        "\n",
        "\n",
        "sym_data_frame = {pair[0]: sym_data_frame[pair[1]] for pair in symbols_total_volume.sort(key=lambda tup: tup[1])}\n",
        "\n",
        "rows = 6\n",
        "cols = 4\n",
        "fig = make_subplots(rows=rows, cols=cols,subplot_titles=symbols_names)\n",
        "index = 0\n",
        "for k,v in sym_data_frame.items():\n",
        "    row = math.floor(index/cols)+1\n",
        "    col = index%cols+1\n",
        "    draw_line_plot(v,k,\"Close\",row,col,fig)\n",
        "    index +=1\n",
        " \n",
        "    \n",
        "fig.update_layout(\n",
        "        showlegend=False,\n",
        "        xaxis=dict(\n",
        "          showticklabels= True\n",
        "        ),\n",
        "        height=1200, \n",
        "        width=1000,)  \n",
        "if number_of_months>2:\n",
        "  fig.update_xaxes(dtick = 'M1',tickangle = 25)\n",
        "else:\n",
        "  fig.update_xaxes(tickangle = 25)\n",
        "fig = go.Figure(fig)\n",
        "fig.show()"
      ],
      "execution_count": 43,
      "outputs": [
        {
          "output_type": "error",
          "ename": "TypeError",
          "evalue": "ignored",
          "traceback": [
            "\u001b[0;31m---------------------------------------------------------------------------\u001b[0m",
            "\u001b[0;31mTypeError\u001b[0m                                 Traceback (most recent call last)",
            "\u001b[0;32m<ipython-input-43-d88cb3d274f3>\u001b[0m in \u001b[0;36m<module>\u001b[0;34m()\u001b[0m\n\u001b[1;32m     45\u001b[0m \u001b[0;34m\u001b[0m\u001b[0m\n\u001b[1;32m     46\u001b[0m \u001b[0;34m\u001b[0m\u001b[0m\n\u001b[0;32m---> 47\u001b[0;31m \u001b[0msorted_sym_data_frame\u001b[0m\u001b[0;34m=\u001b[0m \u001b[0msorted\u001b[0m\u001b[0;34m(\u001b[0m\u001b[0msymbols_total_volume\u001b[0m\u001b[0;34m,\u001b[0m \u001b[0mkey\u001b[0m\u001b[0;34m=\u001b[0m\u001b[0;32mlambda\u001b[0m \u001b[0mtup\u001b[0m\u001b[0;34m:\u001b[0m \u001b[0mtup\u001b[0m\u001b[0;34m[\u001b[0m\u001b[0;36m1\u001b[0m\u001b[0;34m]\u001b[0m\u001b[0;34m)\u001b[0m\u001b[0;34m\u001b[0m\u001b[0;34m\u001b[0m\u001b[0m\n\u001b[0m\u001b[1;32m     48\u001b[0m \u001b[0mprint\u001b[0m\u001b[0;34m(\u001b[0m\u001b[0msorted_sym_data_frame\u001b[0m\u001b[0;34m)\u001b[0m\u001b[0;34m\u001b[0m\u001b[0;34m\u001b[0m\u001b[0m\n\u001b[1;32m     49\u001b[0m \u001b[0;32mfor\u001b[0m \u001b[0mpair\u001b[0m \u001b[0;32min\u001b[0m \u001b[0msymbols_total_volume\u001b[0m\u001b[0;34m.\u001b[0m\u001b[0msort\u001b[0m\u001b[0;34m(\u001b[0m\u001b[0mkey\u001b[0m\u001b[0;34m=\u001b[0m\u001b[0;32mlambda\u001b[0m \u001b[0mtup\u001b[0m\u001b[0;34m:\u001b[0m \u001b[0mtup\u001b[0m\u001b[0;34m[\u001b[0m\u001b[0;36m1\u001b[0m\u001b[0;34m]\u001b[0m\u001b[0;34m)\u001b[0m\u001b[0;34m:\u001b[0m\u001b[0;34m\u001b[0m\u001b[0;34m\u001b[0m\u001b[0m\n",
            "\u001b[0;31mTypeError\u001b[0m: 'dict' object is not callable"
          ]
        }
      ]
    }
  ]
}